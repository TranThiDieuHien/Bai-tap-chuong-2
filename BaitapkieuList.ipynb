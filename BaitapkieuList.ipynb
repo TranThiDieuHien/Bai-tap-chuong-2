{
  "nbformat": 4,
  "nbformat_minor": 0,
  "metadata": {
    "colab": {
      "name": "BaitapkieuList.ipynb",
      "provenance": [],
      "authorship_tag": "ABX9TyMsLU7ZCRZXh55+wa7wuuxU",
      "include_colab_link": true
    },
    "kernelspec": {
      "name": "python3",
      "display_name": "Python 3"
    }
  },
  "cells": [
    {
      "cell_type": "markdown",
      "metadata": {
        "id": "view-in-github",
        "colab_type": "text"
      },
      "source": [
        "<a href=\"https://colab.research.google.com/github/TranThiDieuHien/Bai-tap-chuong-2/blob/main/BaitapkieuList.ipynb\" target=\"_parent\"><img src=\"https://colab.research.google.com/assets/colab-badge.svg\" alt=\"Open In Colab\"/></a>"
      ]
    },
    {
      "cell_type": "code",
      "metadata": {
        "id": "XvfM9h201OBE",
        "outputId": "43eac3f8-c21d-46d8-8de2-9eca2f6da322",
        "colab": {
          "base_uri": "https://localhost:8080/"
        }
      },
      "source": [
        "x=[]\n",
        "x.insert(0,18) #Dòng này thêm gía trị 18 vào vị trí 0 của list\n",
        "x.append(\"Huế\") #Dòng này thêm gía trị Huế vào vị trí cuối cùng của list\n",
        "y=(12,45,-1,-0.56,\"abc\")\n",
        "x.extend(y)\n",
        "#Xuất x ra màn hình\n",
        "print(x)\n",
        "#In ra màn hình giá trị của phần tử cuối cùng và phần từ đầu tiên của x\n",
        "print(x[::len(x)-1])\n",
        "#In ra màn hình giá trị của phần tử đầu tiên đến phần tử thứ 5\n",
        "print(x[0:5])\n",
        "#In ra màn hình giá trị của phần tử thứ 3 đến cuối cùng của x\n",
        "print(x[2:])\n"
      ],
      "execution_count": null,
      "outputs": [
        {
          "output_type": "stream",
          "text": [
            "[18, 'Huế', 12, 45, -1, -0.56, 'abc']\n",
            "[18, 'abc']\n",
            "[18, 'Huế', 12, 45, -1]\n",
            "[12, 45, -1, -0.56, 'abc']\n"
          ],
          "name": "stdout"
        }
      ]
    }
  ]
}