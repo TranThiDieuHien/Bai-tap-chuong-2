{
  "nbformat": 4,
  "nbformat_minor": 0,
  "metadata": {
    "colab": {
      "name": "Bai tap chuong 2ipynb",
      "provenance": [],
      "collapsed_sections": [],
      "authorship_tag": "ABX9TyO9gtBhIPKyl62HgDMMOHl2",
      "include_colab_link": true
    },
    "kernelspec": {
      "name": "python3",
      "display_name": "Python 3"
    }
  },
  "cells": [
    {
      "cell_type": "markdown",
      "metadata": {
        "id": "view-in-github",
        "colab_type": "text"
      },
      "source": [
        "<a href=\"https://colab.research.google.com/github/TranThiDieuHien/Bai-tap-chuong-2/blob/main/Bai_tap_chuong_2ipynb.ipynb\" target=\"_parent\"><img src=\"https://colab.research.google.com/assets/colab-badge.svg\" alt=\"Open In Colab\"/></a>"
      ]
    },
    {
      "cell_type": "markdown",
      "metadata": {
        "id": "1g55_yQsYHAf"
      },
      "source": [
        "Bài 1: Lập trình nhập vào từ bàn phím 2 số nguyên và tính:\n",
        "1. Tổng 2 số\n",
        "2. Tích 2 số\n",
        "3. Hiệu 2 số\n",
        "4. Phép chia lấy phần dư 2 số\n",
        "5. Phép chia lấy phần nguyên 2 số"
      ]
    },
    {
      "cell_type": "code",
      "metadata": {
        "id": "YHen8rytX75C",
        "outputId": "0ee3d232-6899-410b-abd6-52c162510929",
        "colab": {
          "base_uri": "https://localhost:8080/"
        }
      },
      "source": [
        "x= input (\"Nhập x =\")\n",
        "y= input (\"Nhập y =\")\n",
        "x= int(x)\n",
        "y= int(y)\n",
        "tong= x+y\n",
        "tich= x*y\n",
        "hieu= x-y\n",
        "du= x%y\n",
        "nguyen= x//y\n",
        "print (\"Tổng 2 số là\",tong)\n",
        "print (\"Tích 2 số là\",tich)\n",
        "print (\"Hiệu 2 số là\",hieu)\n",
        "print (\"Chia lấy phần dư =\",du)\n",
        "print (\"Chia lấy phần nguyên =\",nguyen)"
      ],
      "execution_count": 22,
      "outputs": [
        {
          "output_type": "stream",
          "text": [
            "Nhập x =23\n",
            "Nhập y =4\n",
            "Tổng 2 số là 27\n",
            "Tích 2 số là 92\n",
            "Hiệu 2 số là 19\n",
            "Chia lấy phần dư = 3\n",
            "Chia lấy phần nguyên = 5\n"
          ],
          "name": "stdout"
        }
      ]
    },
    {
      "cell_type": "markdown",
      "metadata": {
        "id": "Lfa4N43Nal2q"
      },
      "source": [
        "Bài 2: Lập trình nhập vào từ số thực 2 số thực và tính:\n",
        "1. Tổng 2 số\n",
        "2. Tích 2 số\n",
        "3. Hiệu 2 số\n",
        "4. Thương 2 số"
      ]
    },
    {
      "cell_type": "code",
      "metadata": {
        "id": "h1Xd2mwTh4eW",
        "outputId": "a1bdad36-b671-4f99-844e-0def013f1ae4",
        "colab": {
          "base_uri": "https://localhost:8080/"
        }
      },
      "source": [
        "a= input(\"a=\")\n",
        "b= input(\"b=\")\n",
        "a=float(a)\n",
        "b=float(b)\n",
        "p=a+b\n",
        "t=a*b\n",
        "m=a-b\n",
        "c=a/b\n",
        "print(\"Tổng là\",p)\n",
        "print(\"Tích là\",t)\n",
        "print(\"Hiệu là\",m)\n",
        "print(\"Thương là\",c)\n"
      ],
      "execution_count": 23,
      "outputs": [
        {
          "output_type": "stream",
          "text": [
            "a=57\n",
            "b=24\n",
            "Tổng là 81.0\n",
            "Tích là 1368.0\n",
            "Hiệu là 33.0\n",
            "Thương là 2.375\n"
          ],
          "name": "stdout"
        }
      ]
    },
    {
      "cell_type": "markdown",
      "metadata": {
        "id": "EyuqBl-8jDwu"
      },
      "source": [
        "Bài 3:( Sử dụng các hàm toán học) Nhập một số từ bàn phím và tính:\n",
        "1. Trị tuyệt đối\n",
        "2. Lấy phần nguyên của số\n",
        "3. Chuyển đổi thành số thực\n",
        "4. Nhập thêm 1 số từ bàn phím và tính lũy thừa \n",
        "5. Tính căn bậc 2"
      ]
    },
    {
      "cell_type": "code",
      "metadata": {
        "id": "Lr_uBJHMkmMh"
      },
      "source": [
        ""
      ],
      "execution_count": null,
      "outputs": []
    }
  ]
}