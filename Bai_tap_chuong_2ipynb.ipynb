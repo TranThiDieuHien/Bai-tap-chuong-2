{
  "nbformat": 4,
  "nbformat_minor": 0,
  "metadata": {
    "colab": {
      "name": "Bai tap chuong 2ipynb",
      "provenance": [],
      "collapsed_sections": [],
      "authorship_tag": "ABX9TyOtKnawFjg+7NK6Vq5cLSew",
      "include_colab_link": true
    },
    "kernelspec": {
      "name": "python3",
      "display_name": "Python 3"
    }
  },
  "cells": [
    {
      "cell_type": "markdown",
      "metadata": {
        "id": "view-in-github",
        "colab_type": "text"
      },
      "source": [
        "<a href=\"https://colab.research.google.com/github/TranThiDieuHien/Bai-tap-chuong-2/blob/main/Bai_tap_chuong_2ipynb.ipynb\" target=\"_parent\"><img src=\"https://colab.research.google.com/assets/colab-badge.svg\" alt=\"Open In Colab\"/></a>"
      ]
    },
    {
      "cell_type": "markdown",
      "metadata": {
        "id": "1g55_yQsYHAf"
      },
      "source": [
        "Bài 1: Lập trình nhập vào từ bàn phím 2 số nguyên và tính:\n",
        "1. Tổng 2 số\n",
        "2. Tích 2 số\n",
        "3. Hiệu 2 số\n",
        "4. Phép chia lấy phần dư 2 số\n",
        "5. Phép chia lấy phần nguyên 2 số"
      ]
    },
    {
      "cell_type": "code",
      "metadata": {
        "id": "YHen8rytX75C",
        "outputId": "a31c53eb-3b4c-4c8b-845a-c174b036032b",
        "colab": {
          "base_uri": "https://localhost:8080/"
        }
      },
      "source": [
        "x= int(input (\"Nhập x =\"))\n",
        "y= int(input (\"Nhập y =\"))\n",
        "tong= x+y\n",
        "tich= x*y\n",
        "hieu= x-y\n",
        "du= x%y\n",
        "nguyen= x//y\n",
        "print (\"Tổng 2 số là\",tong)\n",
        "print (\"Tích 2 số là\",tich)\n",
        "print (\"Hiệu 2 số là\",hieu)\n",
        "print (\"Chia lấy phần dư =\",du)\n",
        "print (\"Chia lấy phần nguyên =\",nguyen)"
      ],
      "execution_count": 55,
      "outputs": [
        {
          "output_type": "stream",
          "text": [
            "Nhập x =23\n",
            "Nhập y =4\n",
            "Tổng 2 số là 27\n",
            "Tích 2 số là 92\n",
            "Hiệu 2 số là 19\n",
            "Chia lấy phần dư = 3\n",
            "Chia lấy phần nguyên = 5\n"
          ],
          "name": "stdout"
        }
      ]
    },
    {
      "cell_type": "markdown",
      "metadata": {
        "id": "Lfa4N43Nal2q"
      },
      "source": [
        "Bài 2: Lập trình nhập vào từ số thực 2 số thực và tính:\n",
        "1. Tổng 2 số\n",
        "2. Tích 2 số\n",
        "3. Hiệu 2 số\n",
        "4. Thương 2 số"
      ]
    },
    {
      "cell_type": "code",
      "metadata": {
        "id": "h1Xd2mwTh4eW",
        "outputId": "6ed229e2-5018-4c61-bf26-158a3ba220e6",
        "colab": {
          "base_uri": "https://localhost:8080/"
        }
      },
      "source": [
        "a= float(input(\"a=\"))\n",
        "b= float(input(\"b=\"))\n",
        "print(\"Tổng là\",a+b)\n",
        "print(\"Tích là\",a*b)\n",
        "print(\"Hiệu là\",a-b)\n",
        "print(\"Thương là\",a/b)\n"
      ],
      "execution_count": 119,
      "outputs": [
        {
          "output_type": "stream",
          "text": [
            "a=1.2\n",
            "b=2.3\n",
            "Tổng là 3.5\n",
            "Tích là 2.76\n",
            "Hiệu là -1.0999999999999999\n",
            "Thương là 0.5217391304347826\n"
          ],
          "name": "stdout"
        }
      ]
    },
    {
      "cell_type": "markdown",
      "metadata": {
        "id": "EyuqBl-8jDwu"
      },
      "source": [
        "Bài 3:( Sử dụng các hàm toán học) Nhập một số từ bàn phím và tính:\n",
        "1. Trị tuyệt đối\n",
        "2. Lấy phần nguyên của số\n",
        "3. Chuyển đổi thành số thực\n",
        "4. Nhập thêm 1 số từ bàn phím và tính lũy thừa \n",
        "5. Tính căn bậc 2"
      ]
    },
    {
      "cell_type": "code",
      "metadata": {
        "id": "Lr_uBJHMkmMh",
        "outputId": "ea45507c-042a-492e-d8b2-5f4743e7725f",
        "colab": {
          "base_uri": "https://localhost:8080/"
        }
      },
      "source": [
        "x = input(\" Nhập x =\")\n",
        "x= float(x)\n",
        "print(\"Trị tuyệt đối của x là\", abs(x))\n",
        "print(\"Phần nguyên của x là\", int(x))\n",
        "print(\"Chuyển thành số thực x =\",float(x))\n",
        "y =input(\"Nhập y =\")\n",
        "y= float(y)\n",
        "print(\"Lũy thừa x mũ y là\",pow(x,y) )\n",
        "from math import sqrt    \n",
        "print (\"Căn bậc 2 của x là \",sqrt(x/(x-1)))\n"
      ],
      "execution_count": 82,
      "outputs": [
        {
          "output_type": "stream",
          "text": [
            " Nhập x =-3.2\n",
            "Trị tuyệt đối của x là 3.2\n",
            "Phần nguyên của x là -3\n",
            "Chuyển thành số thực x = -3.2\n",
            "Nhập y =2\n",
            "Lũy thừa x mũ y là 10.240000000000002\n",
            "Căn bậc 2 của x là  0.8728715609439694\n"
          ],
          "name": "stdout"
        }
      ]
    },
    {
      "cell_type": "markdown",
      "metadata": {
        "id": "4t21wKyByn-X"
      },
      "source": [
        "Bài 4:Nhập 2 số từ bàn phím và thực hiện các phép so sánh sau giữa 2 số:\n",
        "1. $ \\geq $\n",
        "2. $ \\leq $\n",
        "3. $ > $\n",
        "4. $ < $\n",
        "5. $ \\neq $\n"
      ]
    },
    {
      "cell_type": "code",
      "metadata": {
        "id": "1Eoc0Sw0197F",
        "outputId": "d232a815-c5bb-4a09-da47-c2abd9d3fae3",
        "colab": {
          "base_uri": "https://localhost:8080/"
        }
      },
      "source": [
        "c =float(input(\"Nhập c= \"))\n",
        "t =float(input(\"Nhập t= \"))\n",
        "print(\"Vậy c lớn hơn hoặc bằng t\", c>=t)\n",
        "print(\"Vậy c bé hơn hoặc băng t\",c<=t)\n",
        "print(\"Vậy c lớn hơn t\", c>t)\n",
        "print(\"Vậy c bé hơn t\", c<t)\n",
        "print(\"Vậy c khác t\",c!=t)"
      ],
      "execution_count": 121,
      "outputs": [
        {
          "output_type": "stream",
          "text": [
            "Nhập c= 5.2\n",
            "Nhập t= 2.6\n",
            "Vậy c lớn hơn hoặc bằng t True\n",
            "Vậy c bé hơn hoặc băng t False\n",
            "Vậy c lớn hơn t True\n",
            "Vậy c bé hơn t False\n",
            "Vậy c khác t True\n"
          ],
          "name": "stdout"
        }
      ]
    },
    {
      "cell_type": "markdown",
      "metadata": {
        "id": "CVPkEDjW6M9B"
      },
      "source": [
        "Bài 5: Nhập 1 chuỗi kí tự từ bàn phím:\n",
        "1. Chuyển thành chuỗi in hoa\n",
        "2. Chuyển thành chuỗi in thường"
      ]
    },
    {
      "cell_type": "code",
      "metadata": {
        "id": "KiTq33kq6-Bv",
        "outputId": "a5617c37-8572-4b55-cd3d-69e0570cc73e",
        "colab": {
          "base_uri": "https://localhost:8080/"
        }
      },
      "source": [
        "s= input (\"Chuỗi kí tự s lả \")\n",
        "print(\"Chuỗi kí tự chuyển thành chuỗi in hoa:\",s.upper())\n",
        "print(\"Chuỗi kí tự chuyển thành chuỗi in thường:\",s.lower())"
      ],
      "execution_count": 122,
      "outputs": [
        {
          "output_type": "stream",
          "text": [
            "Chuỗi kí tự s lả Trần Thị Diệu Hiền\n",
            "Chuỗi kí tự chuyển thành chuỗi in hoa: TRẦN THỊ DIỆU HIỀN\n",
            "Chuỗi kí tự chuyển thành chuỗi in thường: trần thị diệu hiền\n"
          ],
          "name": "stdout"
        }
      ]
    },
    {
      "cell_type": "markdown",
      "metadata": {
        "id": "KcuPLdzd85BT"
      },
      "source": [
        "Bài 6: Xuất ra màn hình 1 chuỗi kí tự nằm trên nhiều hàng (có thể là một bài thơ tùy ý bạn lựa chọn)"
      ]
    },
    {
      "cell_type": "code",
      "metadata": {
        "id": "tfZbB3HG9KCQ",
        "outputId": "2457c83a-a8a1-428f-e24f-51142a532915",
        "colab": {
          "base_uri": "https://localhost:8080/"
        }
      },
      "source": [
        "print ('\"Tôi muốn tắt nắng đi \\nCho màu đừng nhạt mất \\nTôi muốn buộc gió lại \\nCho hương đừng bay đi\" \\n \\t(Trích Vội Vàng - Xuân Diệu)')"
      ],
      "execution_count": 125,
      "outputs": [
        {
          "output_type": "stream",
          "text": [
            "\"Tôi muốn tắt nắng đi \n",
            "Cho màu đừng nhạt mất \n",
            "Tôi muốn buộc gió lại \n",
            "Cho hương đừng bay đi\" \n",
            " \t(Trích Vội Vàng - Xuân Diệu)\n"
          ],
          "name": "stdout"
        }
      ]
    }
  ]
}